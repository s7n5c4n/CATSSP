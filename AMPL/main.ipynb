{
 "cells": [
  {
   "cell_type": "code",
   "execution_count": null,
   "id": "c9e14020",
   "metadata": {},
   "outputs": [],
   "source": [
    "import os\n",
    "import time\n",
    "import numpy as np\n",
    "import matplotlib.pyplot as plt\n",
    "from amplpy import AMPL"
   ]
  },
  {
   "cell_type": "code",
   "execution_count": null,
   "id": "2892cd7f",
   "metadata": {},
   "outputs": [],
   "source": [
    "AMPL_FOLDER = r'C:\\Users\\crhac\\Desktop\\CATTSSP\\AMPL\\data'\n",
    "AMPL_MOD = r'C:\\Users\\crhac\\Desktop\\CATTSSP\\AMPL\\modelo.mod'"
   ]
  },
  {
   "cell_type": "code",
   "execution_count": null,
   "id": "fa601459",
   "metadata": {},
   "outputs": [],
   "source": [
    "def ejecutar_instancia(dat_path, time_limit=120):\n",
    "    ampl = AMPL()\n",
    "    ampl.read(AMPL_MOD)\n",
    "    ampl.read_data(dat_path)\n",
    "    \n",
    "    ampl.set_option('solver', 'highs')\n",
    "    ampl.set_option('highs_options', f'time_limit={time_limit}')\n",
    "    \n",
    "    inicio = time.time()\n",
    "    ampl.solve()\n",
    "    fin = time.time()\n",
    "\n",
    "    x = ampl.get_variable('x')\n",
    "    arcos = [(i, j) for i, j, val in x.get_values().to_list() if val > 0.5]\n",
    "\n",
    "    obj = ampl.get_objective('TotalCost')\n",
    "    costo = obj.value()\n",
    "\n",
    "    return costo, fin - inicio, arcos"
   ]
  },
  {
   "cell_type": "code",
   "execution_count": null,
   "id": "3d1f5b65",
   "metadata": {},
   "outputs": [],
   "source": [
    "def graficar_solucion(arcos, dimension, titulo):\n",
    "    np.random.seed(0)\n",
    "    coords = np.random.rand(dimension, 2)\n",
    "\n",
    "    plt.figure(figsize=(6, 6))\n",
    "    plt.scatter(coords[:, 0], coords[:, 1], color='blue')\n",
    "\n",
    "    for idx, (x, y) in enumerate(coords):\n",
    "        plt.text(x, y, str(idx), fontsize=9, ha='right')\n",
    "\n",
    "    for i, j in arcos:\n",
    "        plt.plot([coords[i, 0], coords[j, 0]], [coords[i, 1], coords[j, 1]], 'r-')\n",
    "\n",
    "    plt.title(titulo)\n",
    "    plt.show()"
   ]
  },
  {
   "cell_type": "code",
   "execution_count": null,
   "id": "b58ef75c",
   "metadata": {},
   "outputs": [],
   "source": [
    "archivo = \"data.dat\"\n",
    "dat_path = os.path.join(AMPL_FOLDER, archivo)\n",
    "\n",
    "costo, tiempo, arcos = ejecutar_instancia(dat_path, time_limit=120)\n",
    "\n",
    "print(f\"\\nInstancia: {archivo}\")\n",
    "print(f\"Costo total: {costo}\")\n",
    "print(f\"Tiempo de ejecución: {tiempo:.4f} segundos\")\n",
    "print(f\"Arcos seleccionados: {arcos}\")\n",
    "\n",
    "graficar_solucion(arcos, len(set(i for i, j in arcos) | set(j for i, j in arcos)), f\"{archivo} - Costo: {costo}\")"
   ]
  }
 ],
 "metadata": {
  "language_info": {
   "name": "python"
  }
 },
 "nbformat": 4,
 "nbformat_minor": 5
}
