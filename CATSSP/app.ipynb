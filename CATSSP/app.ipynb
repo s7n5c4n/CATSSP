{
 "cells": [
  {
   "cell_type": "code",
   "execution_count": 9,
   "id": "75b3635a",
   "metadata": {},
   "outputs": [],
   "source": [
    "import numpy as np\n",
    "import matplotlib.pyplot as plt\n",
    "import pandas as pd\n",
    "import random"
   ]
  },
  {
   "cell_type": "code",
   "execution_count": 10,
   "id": "1db40458",
   "metadata": {},
   "outputs": [],
   "source": [
    "def cargar_matriz(filepath):\n",
    "    with open(filepath, 'r') as f:\n",
    "        lines = f.readlines()\n",
    "    for line in lines:\n",
    "        if \"DIMENSION\" in line:\n",
    "            n = int(line.strip().split(\":\")[1])\n",
    "            break\n",
    "    for idx, line in enumerate(lines):\n",
    "        if \"EDGE_WEIGHT_SECTION\" in line:\n",
    "            start_idx = idx + 1\n",
    "            break\n",
    "    costos = []\n",
    "    for i in range(n):\n",
    "        fila = list(map(int, lines[start_idx + i].strip().split()))\n",
    "        fila = [999999 if x == -1 else x for x in fila]\n",
    "        costos.append(fila)\n",
    "    C = np.array(costos)\n",
    "    prohibidos = np.sum(C == 999999)\n",
    "    total = n * n\n",
    "    print(f\"Matriz cargada de dimensión {n}x{n}.\")\n",
    "    print(f\"Porcentaje de arcos prohibidos: {prohibidos/total*100:.2f}%\\n\")\n",
    "    return C"
   ]
  },
  {
   "cell_type": "code",
   "execution_count": 11,
   "id": "2e86ff58",
   "metadata": {},
   "outputs": [],
   "source": [
    "def costo_total(secuencia, C):\n",
    "    return sum(C[secuencia[i], secuencia[i+1]] for i in range(len(secuencia)-1))"
   ]
  },
  {
   "cell_type": "code",
   "execution_count": 12,
   "id": "32ba1573",
   "metadata": {},
   "outputs": [],
   "source": [
    "# Heurística Greedy\n",
    "def greedy(C):\n",
    "    n = C.shape[0]\n",
    "    nodos = list(range(n))\n",
    "    solucion = []\n",
    "    actual = 0\n",
    "    visitados = {actual}\n",
    "    solucion.append(actual)\n",
    "    while len(visitados) < n:\n",
    "        costos_permitidos = [(j, C[actual, j]) for j in nodos if j not in visitados and C[actual, j] < 999999]\n",
    "        if not costos_permitidos:\n",
    "            return None, float('inf')\n",
    "        siguiente = min(costos_permitidos, key=lambda x: x[1])[0]\n",
    "        solucion.append(siguiente)\n",
    "        visitados.add(siguiente)\n",
    "        actual = siguiente\n",
    "    return solucion, costo_total(solucion, C)"
   ]
  },
  {
   "cell_type": "code",
   "execution_count": 13,
   "id": "ccf08ade",
   "metadata": {},
   "outputs": [],
   "source": [
    "# Neighbourhood Search\n",
    "def neighbourhood_search(C, iteraciones=100):\n",
    "    n = C.shape[0]\n",
    "    nodos = list(range(n))\n",
    "    \n",
    "    solucion = []\n",
    "    actual = 0\n",
    "    visitados = {actual}\n",
    "    solucion.append(actual)\n",
    "    while len(visitados) < n:\n",
    "        costos_permitidos = [(j, C[actual, j]) for j in nodos if j not in visitados and C[actual, j] < 999999]\n",
    "        if not costos_permitidos:\n",
    "            return None, float('inf')\n",
    "        siguiente = min(costos_permitidos, key=lambda x: x[1])[0]\n",
    "        solucion.append(siguiente)\n",
    "        visitados.add(siguiente)\n",
    "        actual = siguiente\n",
    "\n",
    "    mejor = solucion[:]\n",
    "    mejor_costo = costo_total(mejor, C)\n",
    "\n",
    "    for _ in range(iteraciones):\n",
    "        i, j = sorted(random.sample(range(1, n), 2))\n",
    "        nueva = mejor[:i] + mejor[i:j][::-1] + mejor[j:]\n",
    "        nuevo_costo = costo_total(nueva, C)\n",
    "        if nuevo_costo < mejor_costo:\n",
    "            mejor, mejor_costo = nueva, nuevo_costo\n",
    "\n",
    "    return mejor, mejor_costo"
   ]
  },
  {
   "cell_type": "code",
   "execution_count": 14,
   "id": "175cb4bf",
   "metadata": {},
   "outputs": [],
   "source": [
    "# GRASP\n",
    "def grasp(C, alpha=0.3, iteraciones=100):\n",
    "    n = C.shape[0]\n",
    "    nodos = list(range(n))\n",
    "    mejor_solucion = None\n",
    "    mejor_costo = float('inf')\n",
    "\n",
    "    for _ in range(iteraciones):\n",
    "        solucion = []\n",
    "        actual = 0\n",
    "        visitados = {actual}\n",
    "        solucion.append(actual)\n",
    "\n",
    "        while len(visitados) < n:\n",
    "            candidatos = [(j, C[actual, j]) for j in nodos if j not in visitados and C[actual, j] < 999999]\n",
    "            if not candidatos:\n",
    "                break\n",
    "            candidatos.sort(key=lambda x: x[1])\n",
    "            k = max(1, int(len(candidatos) * alpha))\n",
    "            siguiente = random.choice(candidatos[:k])[0]\n",
    "            solucion.append(siguiente)\n",
    "            visitados.add(siguiente)\n",
    "            actual = siguiente\n",
    "\n",
    "        if len(visitados) < n:\n",
    "            continue\n",
    "\n",
    "        costo = costo_total(solucion, C)\n",
    "        if costo < mejor_costo:\n",
    "            mejor_solucion = solucion[:]\n",
    "            mejor_costo = costo\n",
    "\n",
    "    return mejor_solucion, mejor_costo"
   ]
  },
  {
   "cell_type": "code",
   "execution_count": 15,
   "id": "24682b0c",
   "metadata": {},
   "outputs": [],
   "source": [
    "# Gráfico de la solución\n",
    "def graficar_solucion(solucion, C, puntos, titulo):\n",
    "    n = C.shape[0]\n",
    "    plt.figure(figsize=(6, 6))\n",
    "    for i in range(n):\n",
    "        plt.scatter(puntos[i, 0], puntos[i, 1], c='blue')\n",
    "        plt.text(puntos[i, 0]+0.01, puntos[i, 1]+0.01, str(i), fontsize=10)\n",
    "    for i in range(len(solucion) - 1):\n",
    "        plt.plot([puntos[solucion[i], 0], puntos[solucion[i+1], 0]],\n",
    "                 [puntos[solucion[i], 1], puntos[solucion[i+1], 1]], 'r-')\n",
    "    costo = costo_total(solucion, C)\n",
    "    plt.title(f'{titulo} - Costo total: {costo}')\n",
    "    plt.show()"
   ]
  },
  {
   "cell_type": "code",
   "execution_count": 21,
   "id": "99154b99",
   "metadata": {},
   "outputs": [
    {
     "name": "stdout",
     "output_type": "stream",
     "text": [
      "Matriz cargada de dimensión 17x17.\n",
      "Porcentaje de arcos prohibidos: 60.21%\n",
      "\n",
      "Greedy: None, Costo: inf\n",
      "Neighbourhood Search: None, Costo: inf\n",
      "GRASP: None, Costo: inf\n"
     ]
    }
   ],
   "source": [
    "ruta = r'C:\\Users\\crhac\\CATSSP\\CATSSP\\CGL-BC\\cgl_17.catsp'\n",
    "C = cargar_matriz(ruta)\n",
    "n = C.shape[0]\n",
    "\n",
    "puntos = np.random.rand(n, 2)\n",
    "\n",
    "solucion, costo = greedy(C)\n",
    "print(f\"Greedy: {solucion}, Costo: {costo}\")\n",
    "if solucion:\n",
    "    graficar_solucion(solucion, C, puntos, \"Greedy\")\n",
    "\n",
    "mejor_ns, costo_ns = neighbourhood_search(C)\n",
    "print(f\"Neighbourhood Search: {mejor_ns}, Costo: {costo_ns}\")\n",
    "if mejor_ns:\n",
    "    graficar_solucion(mejor_ns, C, puntos, \"Neighbourhood Search\")\n",
    "\n",
    "mejor_grasp, costo_grasp = grasp(C)\n",
    "print(f\"GRASP: {mejor_grasp}, Costo: {costo_grasp}\")\n",
    "if mejor_grasp:\n",
    "    graficar_solucion(mejor_grasp, C, puntos, \"GRASP\")\n"
   ]
  }
 ],
 "metadata": {
  "kernelspec": {
   "display_name": "env",
   "language": "python",
   "name": "python3"
  },
  "language_info": {
   "codemirror_mode": {
    "name": "ipython",
    "version": 3
   },
   "file_extension": ".py",
   "mimetype": "text/x-python",
   "name": "python",
   "nbconvert_exporter": "python",
   "pygments_lexer": "ipython3",
   "version": "3.12.10"
  }
 },
 "nbformat": 4,
 "nbformat_minor": 5
}
