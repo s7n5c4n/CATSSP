{
 "cells": [
  {
   "cell_type": "code",
   "execution_count": null,
   "id": "75b3635a",
   "metadata": {},
   "outputs": [
    {
     "ename": "ModuleNotFoundError",
     "evalue": "No module named 'numpy'",
     "output_type": "error",
     "traceback": [
      "\u001b[31m---------------------------------------------------------------------------\u001b[39m",
      "\u001b[31mModuleNotFoundError\u001b[39m                       Traceback (most recent call last)",
      "\u001b[36mCell\u001b[39m\u001b[36m \u001b[39m\u001b[32mIn[1]\u001b[39m\u001b[32m, line 1\u001b[39m\n\u001b[32m----> \u001b[39m\u001b[32m1\u001b[39m \u001b[38;5;28;01mimport\u001b[39;00m\u001b[38;5;250m \u001b[39m\u001b[34;01mnumpy\u001b[39;00m\u001b[38;5;250m \u001b[39m\u001b[38;5;28;01mas\u001b[39;00m\u001b[38;5;250m \u001b[39m\u001b[34;01mnp\u001b[39;00m\n\u001b[32m      2\u001b[39m \u001b[38;5;28;01mimport\u001b[39;00m\u001b[38;5;250m \u001b[39m\u001b[34;01mmatplotlib\u001b[39;00m\u001b[34;01m.\u001b[39;00m\u001b[34;01mpyplot\u001b[39;00m\u001b[38;5;250m \u001b[39m\u001b[38;5;28;01mas\u001b[39;00m\u001b[38;5;250m \u001b[39m\u001b[34;01mplt\u001b[39;00m\n\u001b[32m      3\u001b[39m \u001b[38;5;28;01mimport\u001b[39;00m\u001b[38;5;250m \u001b[39m\u001b[34;01mpandas\u001b[39;00m\u001b[38;5;250m \u001b[39m\u001b[38;5;28;01mas\u001b[39;00m\u001b[38;5;250m \u001b[39m\u001b[34;01mpd\u001b[39;00m\n",
      "\u001b[31mModuleNotFoundError\u001b[39m: No module named 'numpy'"
     ]
    }
   ],
   "source": [
    "import numpy as np\n",
    "import matplotlib.pyplot as plt\n",
    "import pandas as pd"
   ]
  },
  {
   "cell_type": "code",
   "execution_count": null,
   "id": "1db40458",
   "metadata": {},
   "outputs": [],
   "source": [
    "file_path = r'C:\\Users\\crhac\\CATSSP\\CATSSP\\CGL\\cgl_33.catsp'\n",
    "\n",
    "with open(file_path, 'r') as f:\n",
    "    lines = f.readlines()"
   ]
  },
  {
   "cell_type": "code",
   "execution_count": null,
   "id": "2e86ff58",
   "metadata": {},
   "outputs": [],
   "source": [
    "for line in lines:\n",
    "    if \"DIMENSION\" in line:\n",
    "        n = int(line.strip().split(\":\")[1])\n",
    "        break\n",
    "\n",
    "for idx, line in enumerate(lines):\n",
    "    if \"EDGE_WEIGHT_SECTION\" in line:\n",
    "        start_idx = idx + 1\n",
    "        break"
   ]
  },
  {
   "cell_type": "code",
   "execution_count": null,
   "id": "0bbfedf6",
   "metadata": {},
   "outputs": [],
   "source": [
    "costos = []\n",
    "for i in range(n):\n",
    "    fila = list(map(int, lines[start_idx + i].strip().split()))\n",
    "    costos.append(fila)"
   ]
  },
  {
   "cell_type": "code",
   "execution_count": null,
   "id": "32ba1573",
   "metadata": {},
   "outputs": [],
   "source": [
    "C = np.array(costos)\n",
    "print(f\"Matriz de costos cargada con dimensión {C.shape}\")\n",
    "print(C)\n",
    "\n",
    "nodos = list(range(n))\n",
    "solucion = []\n",
    "actual = 0 \n",
    "visitados = {actual}\n",
    "solucion.append(actual)"
   ]
  },
  {
   "cell_type": "code",
   "execution_count": null,
   "id": "e24eef39",
   "metadata": {},
   "outputs": [],
   "source": [
    "while len(visitados) < n:\n",
    "    costos_permitidos = [(j, C[actual, j]) for j in nodos if j not in visitados and C[actual, j] != -1]\n",
    "    if not costos_permitidos:\n",
    "        break\n",
    "    siguiente = min(costos_permitidos, key=lambda x: x[1])[0]\n",
    "    solucion.append(siguiente)\n",
    "    visitados.add(siguiente)\n",
    "    actual = siguiente\n",
    "\n",
    "costo_total = 0\n",
    "for i in range(len(solucion) - 1):\n",
    "    costo_total += C[solucion[i], solucion[i+1]]"
   ]
  },
  {
   "cell_type": "code",
   "execution_count": null,
   "id": "6f2c0a5f",
   "metadata": {},
   "outputs": [],
   "source": [
    "plt.figure(figsize=(6, 6))\n",
    "puntos = np.random.rand(n, 2)\n",
    "for i in range(n):\n",
    "    plt.scatter(puntos[i, 0], puntos[i, 1], c='blue')\n",
    "    plt.text(puntos[i, 0]+0.01, puntos[i, 1]+0.01, str(i), fontsize=10)\n",
    "for i in range(len(solucion) - 1):\n",
    "    plt.plot([puntos[solucion[i], 0], puntos[solucion[i+1], 0]],\n",
    "             [puntos[solucion[i], 1], puntos[solucion[i+1], 1]], 'r-')\n",
    "plt.title(f'Recorrido heurístico - Costo total: {costo_total}')\n",
    "plt.show()\n",
    "\n",
    "df_resultado = pd.DataFrame({'Posición': range(len(solucion)), 'Nodo': solucion})\n",
    "print(df_resultado)\n",
    "print(f\"Costo total de la solución heurística: {costo_total}\")\n"
   ]
  }
 ],
 "metadata": {
  "kernelspec": {
   "display_name": "env",
   "language": "python",
   "name": "python3"
  },
  "language_info": {
   "codemirror_mode": {
    "name": "ipython",
    "version": 3
   },
   "file_extension": ".py",
   "mimetype": "text/x-python",
   "name": "python",
   "nbconvert_exporter": "python",
   "pygments_lexer": "ipython3",
   "version": "3.12.10"
  }
 },
 "nbformat": 4,
 "nbformat_minor": 5
}
